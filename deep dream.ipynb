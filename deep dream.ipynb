{
 "cells": [
  {
   "cell_type": "code",
   "execution_count": 1,
   "metadata": {
    "collapsed": true
   },
   "outputs": [],
   "source": [
    "from __future__ import print_function\n",
    "import numpy as np\n",
    "from scipy.optimize import fmin_l_bfgs_b\n",
    "from scipy.misc import imsave\n",
    "import time"
   ]
  },
  {
   "cell_type": "code",
   "execution_count": 2,
   "metadata": {},
   "outputs": [
    {
     "name": "stderr",
     "output_type": "stream",
     "text": [
      "/home/harshit/anaconda3/lib/python3.6/importlib/_bootstrap.py:219: RuntimeWarning: compiletime version 3.5 of module 'tensorflow.python.framework.fast_tensor_util' does not match runtime version 3.6\n",
      "  return f(*args, **kwds)\n",
      "Using TensorFlow backend.\n"
     ]
    }
   ],
   "source": [
    "import tensorflow as tf\n",
    "import keras"
   ]
  },
  {
   "cell_type": "code",
   "execution_count": 3,
   "metadata": {
    "collapsed": true
   },
   "outputs": [],
   "source": [
    "from keras.applications import vgg16\n",
    "from keras.layers import Input\n",
    "from keras import backend as k\n",
    "from keras.preprocessing.image import load_img,img_to_array"
   ]
  },
  {
   "cell_type": "code",
   "execution_count": 4,
   "metadata": {
    "collapsed": true
   },
   "outputs": [],
   "source": [
    "k.set_image_dim_ordering('tf')\n",
    "image_path= '/home/harshit/Downloads/image.jpg'\n",
    "result_prefix = '/home/harshit/Downloads'\n",
    "\n",
    "height = 750\n",
    "width = 1200"
   ]
  },
  {
   "cell_type": "code",
   "execution_count": 5,
   "metadata": {
    "collapsed": true
   },
   "outputs": [],
   "source": [
    "settings_preset= {\n",
    "    'dreamy' : {\n",
    "        'features' : {\n",
    "            'block5_conv1': 0.05,\n",
    "            'block5_conv2': 0.02\n",
    "        },\n",
    "        'continuity': 0.1,\n",
    "        'jitter': 0.0,\n",
    "        'dreaml2': 0.02\n",
    "    }\n",
    "}"
   ]
  },
  {
   "cell_type": "code",
   "execution_count": 6,
   "metadata": {
    "collapsed": true
   },
   "outputs": [],
   "source": [
    "settings= settings_preset['dreamy']"
   ]
  },
  {
   "cell_type": "code",
   "execution_count": 7,
   "metadata": {
    "collapsed": true
   },
   "outputs": [],
   "source": [
    "def preprocess_image(image_path):\n",
    "    img= load_img(image_path, target_size=(height,width))\n",
    "    img= img_to_array(img)\n",
    "    img= np.expand_dims(img,axis=0)\n",
    "    img= vgg16.preprocess_input(img)\n",
    "    return img"
   ]
  },
  {
   "cell_type": "code",
   "execution_count": 8,
   "metadata": {
    "collapsed": true
   },
   "outputs": [],
   "source": [
    "def deprocess_image(x):\n",
    "    x=x.reshape((height,width,3))\n",
    "    x[:,:,0]+= 103.939\n",
    "    x[:,:,1]+= 116.779\n",
    "    x[:,:,2]+= 123.680\n",
    "    \n",
    "    x=x[:,:,::-1]\n",
    "    x= np.clip(x,0,255).astype('uint8')\n",
    "    \n",
    "    return x"
   ]
  },
  {
   "cell_type": "code",
   "execution_count": 9,
   "metadata": {
    "collapsed": true
   },
   "outputs": [],
   "source": [
    "def continuity_loss(x):\n",
    "    assert k.ndim(x) == 4\n",
    "    a= k.square(x[:,:height-1,:width-1,:]-x[:,1:,:width-1,:])\n",
    "    b= k.square(x[:,:height-1,:width-1,:]-x[:,:height-1,1:,:])\n",
    "    return k.sum(k.pow(a+b,1.25))"
   ]
  },
  {
   "cell_type": "code",
   "execution_count": 10,
   "metadata": {
    "collapsed": true
   },
   "outputs": [],
   "source": [
    "def eval_loss_and_grads(x):\n",
    "    x = x.reshape((1,) + image_size)\n",
    "    outs = f_outputs([x])\n",
    "    loss_value = outs[0]\n",
    "    if len(outs[1:]) == 1:\n",
    "        grad_values = outs[1].flatten().astype('float64')\n",
    "    else:\n",
    "        grad_values = np.array(outs[1:]).flatten().astype('float64')\n",
    "    return loss_value, grad_values"
   ]
  },
  {
   "cell_type": "code",
   "execution_count": 11,
   "metadata": {
    "collapsed": true
   },
   "outputs": [],
   "source": [
    "image_size=(height,width,3)\n",
    "dream= Input(batch_shape=(1,)+image_size)"
   ]
  },
  {
   "cell_type": "code",
   "execution_count": 12,
   "metadata": {
    "collapsed": true
   },
   "outputs": [],
   "source": [
    "model= vgg16.VGG16(input_tensor=dream,weights='imagenet',include_top=False)"
   ]
  },
  {
   "cell_type": "code",
   "execution_count": 13,
   "metadata": {
    "collapsed": true
   },
   "outputs": [],
   "source": [
    "layer_dict= dict([(layer.name,layer) for layer in model.layers])\n",
    "loss= k.variable(0.)\n",
    "for layer_name in settings['features']:\n",
    "    coeff= settings['features'][layer_name]\n",
    "    x= layer_dict[layer_name].output\n",
    "    shape= layer_dict[layer_name].output_shape\n",
    "    loss-= coeff* k.sum(k.square(x[:,2:shape[1]-2,2:shape[2]-2,:]))/np.prod(shape[1:])\n",
    "loss += settings['continuity'] * continuity_loss(dream) / np.prod(image_size)\n",
    "loss+= settings['dreaml2']* k.sum(k.square(dream))/np.prod(image_size)\n",
    "grads= k.gradients(loss,dream)\n",
    "outputs=[loss]\n",
    "if isinstance(grads, (list, tuple)):\n",
    "    outputs += grads\n",
    "else:\n",
    "    outputs.append(grads)\n",
    "\n",
    "f_outputs= k.function([dream],outputs)\n",
    "class Evaluator(object):\n",
    "    def __init__(self):\n",
    "        self.loss_value = None\n",
    "        self.grad_values = None\n",
    "\n",
    "    def loss(self, x):\n",
    "        assert self.loss_value is None\n",
    "        loss_value, grad_values = eval_loss_and_grads(x)\n",
    "        self.loss_value = loss_value\n",
    "        self.grad_values = grad_values\n",
    "        return self.loss_value\n",
    "\n",
    "    def grads(self, x):\n",
    "        assert self.loss_value is not None\n",
    "        grad_values = np.copy(self.grad_values)\n",
    "        self.loss_value = None\n",
    "        self.grad_values = None\n",
    "        return grad_values\n",
    "evaluator= Evaluator()\n",
    "x= preprocess_image(image_path)"
   ]
  },
  {
   "cell_type": "code",
   "execution_count": 14,
   "metadata": {},
   "outputs": [
    {
     "name": "stdout",
     "output_type": "stream",
     "text": [
      "Start of iteration 1\n",
      "Current loss value: -207.856\n",
      "Image saved as /home/harshit/Downloads_at_iteration_0.png\n",
      "Iteration 0 completed in 270s\n",
      "Start of iteration 2\n",
      "Current loss value: -1028.04\n",
      "Image saved as /home/harshit/Downloads_at_iteration_1.png\n",
      "Iteration 1 completed in 246s\n",
      "Start of iteration 3\n",
      "Current loss value: -3487.25\n",
      "Image saved as /home/harshit/Downloads_at_iteration_2.png\n",
      "Iteration 2 completed in 242s\n",
      "Start of iteration 4\n",
      "Current loss value: -9040.77\n",
      "Image saved as /home/harshit/Downloads_at_iteration_3.png\n",
      "Iteration 3 completed in 241s\n",
      "Start of iteration 5\n",
      "Current loss value: -19578.7\n",
      "Image saved as /home/harshit/Downloads_at_iteration_4.png\n",
      "Iteration 4 completed in 241s\n"
     ]
    }
   ],
   "source": [
    "for i in range(5):\n",
    "    print('Start of iteration', i+1)\n",
    "    start_time = time.time()\n",
    "    random_jitter= (settings['jitter']*2)*(np.random.random(image_size)-0.5)\n",
    "    x+= random_jitter\n",
    "    x, min_val, info = fmin_l_bfgs_b(evaluator.loss, x.flatten(),fprime=evaluator.grads, maxfun=8)\n",
    "    print('Current loss value:', min_val)\n",
    "    x= x.reshape(image_size)\n",
    "    x-=random_jitter\n",
    "    image= deprocess_image(np.copy(x))\n",
    "    #print(image)\n",
    "    fn = result_prefix + '_at_iteration_%d.png' % i\n",
    "    imsave(fn, image)\n",
    "\n",
    "    end_time = time.time()\n",
    "    print('Image saved as', fn)\n",
    "    print('Iteration %d completed in %ds' % (i, end_time-start_time))"
   ]
  },
  {
   "cell_type": "code",
   "execution_count": null,
   "metadata": {
    "collapsed": true
   },
   "outputs": [],
   "source": []
  }
 ],
 "metadata": {
  "kernelspec": {
   "display_name": "Python 3",
   "language": "python",
   "name": "python3"
  },
  "language_info": {
   "codemirror_mode": {
    "name": "ipython",
    "version": 3
   },
   "file_extension": ".py",
   "mimetype": "text/x-python",
   "name": "python",
   "nbconvert_exporter": "python",
   "pygments_lexer": "ipython3",
   "version": "3.6.3"
  }
 },
 "nbformat": 4,
 "nbformat_minor": 2
}
